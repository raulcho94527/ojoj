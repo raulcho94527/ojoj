{
  "nbformat": 4,
  "nbformat_minor": 0,
  "metadata": {
    "colab": {
      "name": "백준_입출력과 사칙연산. 0801.ipynb",
      "provenance": [],
      "collapsed_sections": [],
      "authorship_tag": "ABX9TyNFs9wiZDSLD0N4hq1rpNfM",
      "include_colab_link": true
    },
    "kernelspec": {
      "name": "python3",
      "display_name": "Python 3"
    },
    "language_info": {
      "name": "python"
    }
  },
  "cells": [
    {
      "cell_type": "markdown",
      "metadata": {
        "id": "view-in-github",
        "colab_type": "text"
      },
      "source": [
        "<a href=\"https://colab.research.google.com/github/Oramgee/-oramge-.github.io/blob/gh-pages/%EB%B0%B1%EC%A4%80_%EC%9E%85%EC%B6%9C%EB%A0%A5%EA%B3%BC_%EC%82%AC%EC%B9%99%EC%97%B0%EC%82%B0_0801.ipynb\" target=\"_parent\"><img src=\"https://colab.research.google.com/assets/colab-badge.svg\" alt=\"Open In Colab\"/></a>"
      ]
    },
    {
      "cell_type": "code",
      "source": [
        "#백준 #입출력과 사칙연산"
      ],
      "metadata": {
        "id": "kaL-RbcjF3sC"
      },
      "execution_count": null,
      "outputs": []
    },
    {
      "cell_type": "code",
      "source": [
        "print('\\\\    /\\\\\\n )  ( \\')')\n",
        "\n",
        "print('(  /   )\\n \\(__)|')\n",
        "\n"
      ],
      "metadata": {
        "colab": {
          "base_uri": "https://localhost:8080/"
        },
        "id": "DEd3lXUaDzwi",
        "outputId": "b3f893b1-f4af-46dd-b16e-c123a1966da9"
      },
      "execution_count": 92,
      "outputs": [
        {
          "output_type": "stream",
          "name": "stdout",
          "text": [
            "\\    /\\\n",
            " )  ( ')\n",
            "(  /   )\n",
            " \\(__)|\n"
          ]
        }
      ]
    },
    {
      "cell_type": "code",
      "execution_count": null,
      "metadata": {
        "id": "eR33_cl_Drlm"
      },
      "outputs": [],
      "source": [
        "#정답\n",
        "\n",
        "\\    /\\\n",
        " )  ( ')\n",
        "(  /  )\n",
        " \\(__)|"
      ]
    },
    {
      "cell_type": "markdown",
      "source": [
        "#강아지 "
      ],
      "metadata": {
        "id": "vWNJSiqEIlK_"
      }
    },
    {
      "cell_type": "code",
      "source": [
        "\n",
        "#정답\n",
        "\n",
        "|\\_/|\n",
        "|q p|   /}\n",
        "( 0 )\"\"\"\\\n",
        "|\"^\"`    |\n",
        "||_/=\\\\__|"
      ],
      "metadata": {
        "id": "EagQ3uAZEkJG"
      },
      "execution_count": null,
      "outputs": []
    },
    {
      "cell_type": "code",
      "source": [
        "print('|\\_/|\\n|q p|\\t/}\\n( 0 )\"\"\"\\\\n|\"^\"\\t|\\n|| /=\\\\\\  |')"
      ],
      "metadata": {
        "colab": {
          "base_uri": "https://localhost:8080/"
        },
        "id": "-PATl9igElCt",
        "outputId": "905ac314-9a73-4d4b-a09d-3239d6eaf959"
      },
      "execution_count": 103,
      "outputs": [
        {
          "output_type": "stream",
          "name": "stdout",
          "text": [
            "|\\_/|\n",
            "|q p|\t/}\n",
            "( 0 )\"\"\"\\n|\"^\"\t|\n",
            "|| /=\\\\  |\n"
          ]
        }
      ]
    },
    {
      "cell_type": "code",
      "source": [
        "#문제\n",
        "두 정수 A와 B를 입력받은 다음, A+B를 출력하는 프로그램을 작성하시오.\n",
        "\n",
        "입력\n",
        "첫째 줄에 A와 B가 주어진다. (0 < A, B < 10)\n",
        "\n",
        "출력\n",
        "첫째 줄에 A+B를 출력한다.\n"
      ],
      "metadata": {
        "id": "3jkUe-nEEH7s"
      },
      "execution_count": null,
      "outputs": []
    },
    {
      "cell_type": "code",
      "source": [
        "A = int(input(' 정수 A 를 입력하세요:'))\n",
        "B = int(input('정수 B 를 입력하세요:'))\n",
        "\n",
        "if 0 < A and B < 10:\n",
        "    print(f\"결과값은 {A+B} 입니다!\")\n",
        "else: \n",
        "    print('10 미만의 정수를 입력해주세요!')\n",
        "\n",
        "\n",
        "\n"
      ],
      "metadata": {
        "colab": {
          "base_uri": "https://localhost:8080/"
        },
        "id": "_sfvghF_KGqr",
        "outputId": "4f117527-d1f3-4c0e-9d7f-47465a27274e"
      },
      "execution_count": 114,
      "outputs": [
        {
          "output_type": "stream",
          "name": "stdout",
          "text": [
            " 정수 A 를 입력하세요:3\n",
            "정수 B 를 입력하세요:4\n",
            "결과값은 7 입니다!\n"
          ]
        }
      ]
    },
    {
      "cell_type": "code",
      "source": [
        "#문제\n",
        "두 정수 A와 B를 입력받은 다음, A×B를 출력하는 프로그램을 작성하시오.\n",
        "\n",
        "입력\n",
        "첫째 줄에 A와 B가 주어진다. (0 < A, B < 10)\n",
        "\n",
        "출력\n",
        "첫째 줄에 A×B를 출력한다."
      ],
      "metadata": {
        "id": "JfSR_WnZLHfX"
      },
      "execution_count": null,
      "outputs": []
    },
    {
      "cell_type": "code",
      "source": [
        "C = int(input( \"정수 A 를 입력하세요: \"))\n",
        "D = int(input( \"정수 B 를 입력하세요: \"))\n",
        "\n",
        "\n",
        "if 0< C and D < 10 : \n",
        "  print(f\"결과값은 {C*D} 입니다\")\n",
        "else:\n",
        "  print(\"0과 10 사이의 정수를 입력해주세요!\")\n",
        "\n"
      ],
      "metadata": {
        "colab": {
          "base_uri": "https://localhost:8080/"
        },
        "id": "0JDKzEzuLJhD",
        "outputId": "8e8746f2-8c9b-4318-ba5b-5310295b5d4c"
      },
      "execution_count": 120,
      "outputs": [
        {
          "output_type": "stream",
          "name": "stdout",
          "text": [
            "정수 A 를 입력하세요: 4\n",
            "정수 B 를 입력하세요: 5\n",
            "결과값은 20 입니다\n"
          ]
        }
      ]
    },
    {
      "cell_type": "code",
      "source": [
        "#문제\n",
        "# 두 수 비교하기. \n",
        "두 정수 A와 B가 주어졌을 때, A와 B를 비교하는 프로그램을 작성하시오.\n",
        "\n",
        "입력\n",
        "첫째 줄에 A와 B가 주어진다. A와 B는 공백 한 칸으로 구분되어져 있다.\n",
        "\n",
        "출력\n",
        "첫째 줄에 다음 세 가지 중 하나를 출력한다.\n",
        "\n",
        "A가 B보다 큰 경우에는 '>'를 출력한다.\n",
        "A가 B보다 작은 경우에는 '<'를 출력한다.\n",
        "A와 B가 같은 경우에는 '=='를 출력한다.\n",
        "제한\n",
        "-10,000 ≤ A, B ≤ 10,000"
      ],
      "metadata": {
        "id": "e4AicTJaPFZC"
      },
      "execution_count": null,
      "outputs": []
    },
    {
      "cell_type": "code",
      "source": [
        "A = int( input ( ' 정수 A 를 입력하세요. '))\n",
        "B = int( input ( ' 정수 B 를 입력하세요. '))\n",
        "\n",
        "\n",
        "if A > B : \n",
        "  print( '>')\n",
        "elif A < B:\n",
        "  print('<')\n",
        "else:\n",
        "  print('==')\n",
        "\n",
        "  "
      ],
      "metadata": {
        "id": "vip6VhHlPH7O"
      },
      "execution_count": null,
      "outputs": []
    },
    {
      "cell_type": "code",
      "source": [
        "# 시험 성적\n",
        "시험 점수를 입력받아 90 ~ 100점은 A, 80 ~ 89점은 B, 70 ~ 79점은 C, 60 ~ 69점은 D, 나머지 점수는 F를 출력하는 프로그램을 작성하시오.\n",
        "\n",
        "입력\n",
        "첫째 줄에 시험 점수가 주어진다. 시험 점수는 0보다 크거나 같고, 100보다 작거나 같은 정수이다.\n",
        "\n",
        "출력\n",
        "시험 성적을 출력한다."
      ],
      "metadata": {
        "id": "tuRsEwDRPggF"
      },
      "execution_count": null,
      "outputs": []
    },
    {
      "cell_type": "code",
      "source": [
        "score = int ( input( ' 시험 성적을 입력하세요 '))\n",
        "\n",
        "\n",
        "if 90 =< score <= 100 : \n",
        "  print('A')\n",
        "elif 80 =< score <= 89: \n",
        "  print('B')\n",
        "elif 70 =< score <= 79:\n",
        "  print('C')\n",
        "elif 60 =< score <= 69:\n",
        "  print('D')\n",
        "else:\n",
        "  print('F')\n"
      ],
      "metadata": {
        "id": "LWm8zoqYPidr"
      },
      "execution_count": null,
      "outputs": []
    },
    {
      "cell_type": "code",
      "source": [
        "#문제 #2884번 알람시계문제\n",
        "상근이는 매일 아침 알람을 듣고 일어난다. 알람을 듣고 바로 일어나면 다행이겠지만, 항상 조금만 더 자려는 마음 때문에 매일 학교를 지각하고 있다.\n",
        "상근이는 모든 방법을 동원해보았지만, 조금만 더 자려는 마음은 그 어떤 것도 없앨 수가 없었다.\n",
        "이런 상근이를 불쌍하게 보던, 창영이는 자신이 사용하는 방법을 추천해 주었다.\n",
        "바로 \"45분 일찍 알람 설정하기\"이다.\n",
        "이 방법은 단순하다. 원래 설정되어 있는 알람을 45분 앞서는 시간으로 바꾸는 것이다. 어차피 알람 소리를 들으면, 알람을 끄고 조금 더 잘 것이기 때문이다.\n",
        "이 방법을 사용하면, 매일 아침 더 잤다는 기분을 느낄 수 있고, 학교도 지각하지 않게 된다.\n",
        "현재 상근이가 설정한 알람 시각이 주어졌을 때, 창영이의 방법을 사용한다면, 이를 언제로 고쳐야 하는지 구하는 프로그램을 작성하시오.\n",
        "\n",
        "입력\n",
        "첫째 줄에 두 정수 H와 M이 주어진다. (0 ≤ H ≤ 23, 0 ≤ M ≤ 59) 그리고 이것은 현재 상근이가 설정한 놓은 알람 시간 H시 M분을 의미한다.\n",
        "\n",
        "입력 시간은 24시간 표현을 사용한다. 24시간 표현에서 하루의 시작은 0:0(자정)이고, 끝은 23:59(다음날 자정 1분 전)이다. 시간을 나타낼 때, 불필요한 0은 사용하지 않는다.\n",
        "\n",
        "출력\n",
        "첫째 줄에 상근이가 창영이의 방법을 사용할 때, 설정해야 하는 알람 시간을 출력한다. (입력과 같은 형태로 출력하면 된다.)"
      ],
      "metadata": {
        "id": "acjouG3VQPLs"
      },
      "execution_count": null,
      "outputs": []
    },
    {
      "cell_type": "code",
      "source": [
        "H = int(input('현재시간을 입력해주세요. 0부터 23 사이의 정수입력요망 '))\n",
        "M = int(input(' 몇분인지 알려주세요: 0부터 59 사이의 값 요망 '))\n",
        "\n",
        "\n",
        "if  0 <= H <= 23 and 0 <= M <= 59:\n",
        "  if M >= 15: \n",
        "    C = H +1 \n",
        "    D = M + 45 - 60\n",
        "    if C >= 24:\n",
        "      C = C -24\n",
        "    print(f'{C}시 {D}분')\n",
        "  else: \n",
        "    C = C\n",
        "    D = M + 45\n",
        "    print (f' {C}시 {D}분')\n",
        "else:\n",
        "  print(' 0 과 23 사이의 시각, 0과 59분 사이의 분을 입력해주세요')\n",
        "\n"
      ],
      "metadata": {
        "colab": {
          "base_uri": "https://localhost:8080/"
        },
        "id": "8aGg6lHtQqKj",
        "outputId": "3d0e50ac-a82a-4b57-9918-24f94f91ce52"
      },
      "execution_count": 142,
      "outputs": [
        {
          "output_type": "stream",
          "name": "stdout",
          "text": [
            "현재시간을 입력해주세요. 0부터 23 사이의 정수입력요망 11\n",
            " 몇분인지 알려주세요: 0부터 59 사이의 값 요망 40\n",
            "12시 25분\n"
          ]
        }
      ]
    },
    {
      "cell_type": "code",
      "source": [
        "#2525: 오븐시계문제\n",
        "문제\n",
        "KOI 전자에서는 건강에 좋고 맛있는 훈제오리구이 요리를 간편하게 만드는 인공지능 오븐을 개발하려고 한다. 인공지능 오븐을 사용하는 방법은 적당한 양의 오리 훈제 재료를 인공지능 오븐에 넣으면 된다.\n",
        "그러면 인공지능 오븐은 오븐구이가 끝나는 시간을 분 단위로 자동적으로 계산한다. \n",
        "또한, KOI 전자의 인공지능 오븐 앞면에는 사용자에게 훈제오리구이 요리가 끝나는 시각을 알려 주는 디지털 시계가 있다. \n",
        "훈제오리구이를 시작하는 시각과 오븐구이를 하는 데 필요한 시간이 분단위로 주어졌을 때, 오븐구이가 끝나는 시각을 계산하는 프로그램을 작성하시오.\n",
        "입력\n",
        "첫째 줄에는 현재 시각이 나온다. 현재 시각은 시 A (0 ≤ A ≤ 23) 와 분 B (0 ≤ B ≤ 59)가 정수로 빈칸을 사이에 두고 순서대로 주어진다.\n",
        "두 번째 줄에는 요리하는 데 필요한 시간 C (0 ≤ C ≤ 1,000)가 분 단위로 주어진다. \n",
        "출력\n",
        "첫째 줄에 종료되는 시각의 시와 분을 공백을 사이에 두고 출력한다.\n",
        " (단, 시는 0부터 23까지의 정수, 분은 0부터 59까지의 정수이다. 디지털 시계는 23시 59분에서 1분이 지나면 0시 0분이 된다.)\n",
        "\n",
        "\n",
        "\n",
        "\n",
        "\n",
        "\n",
        "A = int( input( ' 현재 시 입력 요망 :'))\n",
        "B = int( input(' 현재 분 입력 요망:'))\n",
        "C = int ( input('몇분요리? : '))\n",
        "\n",
        "if 0 = < A <= 23 and 0 =< B <= 59:\n",
        "  hours  = C //60.  # C 는 조리시간. 조리시간 시간.\n",
        "  minutes = C / 60  # 조리시간 분\n",
        "\n",
        "  A = A + hours\n",
        "  B = B + minutes\n",
        "\n",
        "  if B >= 60:\n",
        "    A = A +1\n",
        "    B = B - 60\n",
        "  elif B < 60:\n",
        "    B = B + 60\n",
        "\n",
        "\n",
        "if A >= 24: \n",
        "  A = A -24\n",
        "\n",
        "\n",
        "print( f' {A} 시 {B} 분')\n",
        "\n",
        "\n",
        "\n"
      ],
      "metadata": {
        "colab": {
          "base_uri": "https://localhost:8080/",
          "height": 135
        },
        "id": "W1WjMkwFQQkE",
        "outputId": "23052a20-d465-47e4-9e2a-07fbb1c48a9d"
      },
      "execution_count": 144,
      "outputs": [
        {
          "output_type": "error",
          "ename": "SyntaxError",
          "evalue": "ignored",
          "traceback": [
            "\u001b[0;36m  File \u001b[0;32m\"<ipython-input-144-2664e972162d>\"\u001b[0;36m, line \u001b[0;32m3\u001b[0m\n\u001b[0;31m    KOI 전자에서는 건강에 좋고 맛있는 훈제오리구이 요리를 간편하게 만드는 인공지능 오븐을 개발하려고 한다. 인공지능 오븐을 사용하는 방법은 적당한 양의 오리 훈제 재료를 인공지능 오븐에 넣으면 된다.\u001b[0m\n\u001b[0m            ^\u001b[0m\n\u001b[0;31mSyntaxError\u001b[0m\u001b[0;31m:\u001b[0m invalid syntax\n"
          ]
        }
      ]
    },
    {
      "cell_type": "code",
      "source": [
        ""
      ],
      "metadata": {
        "id": "j3oPvEzQVqLu"
      },
      "execution_count": null,
      "outputs": []
    }
  ]
}